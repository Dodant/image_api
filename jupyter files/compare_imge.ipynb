{
 "cells": [
  {
   "cell_type": "code",
   "execution_count": 1,
   "metadata": {},
   "outputs": [],
   "source": [
    "import cv2\n",
    "import numpy as np\n",
    "\n",
    "def resize_image(image, size):\n",
    "    return cv2.resize(image, (size, size), interpolation=cv2.INTER_LINEAR)\n",
    "\n",
    "def calculate_pixel_difference(image1, image2):\n",
    "    # Ensure the images have the same shape\n",
    "    if image1.shape != image2.shape:\n",
    "        raise ValueError(\"Images must have the same dimensions for pixel difference calculation\")\n",
    "    \n",
    "    # Calculate the absolute difference between the two images\n",
    "    diff = np.abs(image1 - image2)\n",
    "    return diff\n",
    "\n",
    "# Load images\n",
    "image_192 = cv2.imread('sample_infer_output_art.jpg')\n",
    "image_512 = cv2.imread('sample_infer_output_art_sr.jpg')\n",
    "\n",
    "# Resize the 192 image to 512\n",
    "resized_image = resize_image(image_192, 512)\n",
    "\n",
    "# Calculate pixel difference\n",
    "pixel_difference = calculate_pixel_difference(resized_image, image_512)\n",
    "\n",
    "# Display or save the pixel difference image\n",
    "# cv2.imshow('Pixel Difference', pixel_difference)\n",
    "# cv2.imwrite('pixel_difference.png', pixel_difference)\n",
    "# cv2.waitKey(0)\n",
    "# cv2.destroyAllWindows()\n",
    "\n"
   ]
  },
  {
   "cell_type": "code",
   "execution_count": 3,
   "metadata": {},
   "outputs": [
    {
     "data": {
      "text/plain": [
       "array([[9, 1, 5],\n",
       "       [9, 1, 5],\n",
       "       [8, 1, 3],\n",
       "       ...,\n",
       "       [5, 7, 2],\n",
       "       [5, 7, 2],\n",
       "       [5, 7, 2]], dtype=uint8)"
      ]
     },
     "execution_count": 3,
     "metadata": {},
     "output_type": "execute_result"
    }
   ],
   "source": []
  },
  {
   "cell_type": "code",
   "execution_count": null,
   "metadata": {},
   "outputs": [],
   "source": []
  }
 ],
 "metadata": {
  "kernelspec": {
   "display_name": "msd1_2",
   "language": "python",
   "name": "python3"
  },
  "language_info": {
   "codemirror_mode": {
    "name": "ipython",
    "version": 3
   },
   "file_extension": ".py",
   "mimetype": "text/x-python",
   "name": "python",
   "nbconvert_exporter": "python",
   "pygments_lexer": "ipython3",
   "version": "3.9.19"
  }
 },
 "nbformat": 4,
 "nbformat_minor": 2
}
