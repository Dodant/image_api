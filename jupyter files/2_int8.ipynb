{
 "cells": [
  {
   "cell_type": "code",
   "execution_count": 2,
   "metadata": {},
   "outputs": [
    {
     "name": "stderr",
     "output_type": "stream",
     "text": [
      "2024-05-30 11:03:08.319956: E external/local_xla/xla/stream_executor/cuda/cuda_dnn.cc:9261] Unable to register cuDNN factory: Attempting to register factory for plugin cuDNN when one has already been registered\n",
      "2024-05-30 11:03:08.320006: E external/local_xla/xla/stream_executor/cuda/cuda_fft.cc:607] Unable to register cuFFT factory: Attempting to register factory for plugin cuFFT when one has already been registered\n",
      "2024-05-30 11:03:08.321107: E external/local_xla/xla/stream_executor/cuda/cuda_blas.cc:1515] Unable to register cuBLAS factory: Attempting to register factory for plugin cuBLAS when one has already been registered\n",
      "2024-05-30 11:03:08.327883: I tensorflow/core/platform/cpu_feature_guard.cc:182] This TensorFlow binary is optimized to use available CPU instructions in performance-critical operations.\n",
      "To enable the following instructions: AVX2 FMA, in other operations, rebuild TensorFlow with the appropriate compiler flags.\n",
      "2024-05-30 11:03:09.176221: W tensorflow/compiler/tf2tensorrt/utils/py_utils.cc:38] TF-TRT Warning: Could not find TensorRT\n",
      "INFO: Created TensorFlow Lite XNNPACK delegate for CPU.\n"
     ]
    }
   ],
   "source": [
    "import tensorflow as tf\n",
    "from PIL import Image\n",
    "import requests\n",
    "from io import BytesIO\n",
    "import numpy as np\n",
    "import cv2\n",
    "\n",
    "model_dir = './sr_models/xlsr_quantized.tflite'\n",
    "interpreter = tf.lite.Interpreter(model_path=model_dir)\n",
    "interpreter.allocate_tensors()\n",
    "input_details = interpreter.get_input_details()\n",
    "output_details = interpreter.get_output_details()\n",
    "\n",
    "def download_image(url):\n",
    "    response = requests.get(url)\n",
    "    return Image.open(BytesIO(response.content)).convert(\"RGB\")\n",
    "\n",
    "img_url = \"https://raw.githubusercontent.com/CompVis/latent-diffusion/main/data/inpainting_examples/overture-creations-5sI6fQgYIuo.png\"\n",
    "\n",
    "init_image = download_image(img_url).resize((128, 128))"
   ]
  },
  {
   "cell_type": "markdown",
   "metadata": {},
   "source": [
    "## Check input_details and fis the scale value and zero point value"
   ]
  },
  {
   "cell_type": "code",
   "execution_count": 3,
   "metadata": {},
   "outputs": [
    {
     "data": {
      "text/plain": [
       "[{'name': 'image',\n",
       "  'index': 0,\n",
       "  'shape': array([  1, 128, 128,   3], dtype=int32),\n",
       "  'shape_signature': array([  1, 128, 128,   3], dtype=int32),\n",
       "  'dtype': numpy.int8,\n",
       "  'quantization': (0.003921568859368563, -128),\n",
       "  'quantization_parameters': {'scales': array([0.00392157], dtype=float32),\n",
       "   'zero_points': array([-128], dtype=int32),\n",
       "   'quantized_dimension': 0},\n",
       "  'sparsity_parameters': {}}]"
      ]
     },
     "execution_count": 3,
     "metadata": {},
     "output_type": "execute_result"
    }
   ],
   "source": [
    "input_details"
   ]
  },
  {
   "cell_type": "code",
   "execution_count": 4,
   "metadata": {},
   "outputs": [],
   "source": [
    "scale = 0.003921568859368563\n",
    "zero_point = -128\n",
    "\n",
    "# Convert image to numpy array and expand dimensions to match model input\n",
    "init_image_array = np.array(init_image).astype(np.float32)  # 이미지 값을 float32로 변환\n",
    "init_image_array = np.expand_dims(init_image_array, axis=0)  # 배치 차원 추가\n",
    "\n",
    "# Quantize the image\n",
    "init_image_quantized = np.round(init_image_array / scale + zero_point).astype(np.int8)"
   ]
  },
  {
   "cell_type": "markdown",
   "metadata": {},
   "source": [
    "## Model Inference"
   ]
  },
  {
   "cell_type": "code",
   "execution_count": 5,
   "metadata": {},
   "outputs": [],
   "source": [
    "# Set input tensor\n",
    "interpreter.set_tensor(input_details[0]['index'], init_image_quantized)\n",
    "\n",
    "# Run inference\n",
    "interpreter.invoke()\n",
    "\n",
    "# Get output tensor\n",
    "output_data = interpreter.get_tensor(output_details[0]['index'])"
   ]
  },
  {
   "cell_type": "markdown",
   "metadata": {},
   "source": [
    "## Check output_details and fis the scale value and zero point value"
   ]
  },
  {
   "cell_type": "code",
   "execution_count": 7,
   "metadata": {},
   "outputs": [
    {
     "data": {
      "text/plain": [
       "[{'name': 'output_0',\n",
       "  'index': 43,\n",
       "  'shape': array([  1, 512, 512,   3], dtype=int32),\n",
       "  'shape_signature': array([  1, 512, 512,   3], dtype=int32),\n",
       "  'dtype': numpy.int8,\n",
       "  'quantization': (0.003913909196853638, -128),\n",
       "  'quantization_parameters': {'scales': array([0.00391391], dtype=float32),\n",
       "   'zero_points': array([-128], dtype=int32),\n",
       "   'quantized_dimension': 0},\n",
       "  'sparsity_parameters': {}}]"
      ]
     },
     "execution_count": 7,
     "metadata": {},
     "output_type": "execute_result"
    }
   ],
   "source": [
    "output_details"
   ]
  },
  {
   "cell_type": "code",
   "execution_count": 6,
   "metadata": {},
   "outputs": [],
   "source": [
    "output_scale = 0.003913909196853638\n",
    "output_zero_point = -128\n",
    "\n",
    "def dequantize_output(output_tensor, scale, zero_point):\n",
    "    return (output_tensor.astype(np.float32) - zero_point) * scale\n",
    "\n",
    "output_dequantized = dequantize_output(output_data, output_scale, output_zero_point)\n",
    "output_uint8 = np.clip(output_dequantized * 255, 0, 255).astype(np.uint8)\n",
    "output_image = output_uint8[0]\n",
    "\n",
    "#### OPTIONAL ####\n",
    "output_image = cv2.bitwise_not(output_image)\n",
    "\n",
    "\n",
    "\n",
    "output_pil_image = Image.fromarray(output_image)\n",
    "output_pil_image.save(\"output_image.png\")"
   ]
  }
 ],
 "metadata": {
  "kernelspec": {
   "display_name": "bk-sdm",
   "language": "python",
   "name": "python3"
  },
  "language_info": {
   "codemirror_mode": {
    "name": "ipython",
    "version": 3
   },
   "file_extension": ".py",
   "mimetype": "text/x-python",
   "name": "python",
   "nbconvert_exporter": "python",
   "pygments_lexer": "ipython3",
   "version": "3.9.19"
  }
 },
 "nbformat": 4,
 "nbformat_minor": 2
}
